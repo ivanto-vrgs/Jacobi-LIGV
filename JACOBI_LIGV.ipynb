{
  "cells": [
    {
      "cell_type": "code",
      "execution_count": null,
      "metadata": {
        "colab": {
          "base_uri": "https://localhost:8080/"
        },
        "id": "RR9XDPY9gBbN",
        "outputId": "da019836-c77e-4579-89d0-da6f1224f855"
      },
      "outputs": [
        {
          "name": "stdout",
          "output_type": "stream",
          "text": [
            " Iteración       u11       u21       u12       u22\n",
            "         1 18.750000 12.500000 12.500000  0.000000\n",
            "         2 25.000000 17.187500 17.187500  6.250000\n",
            "         3 27.343750 20.312500 20.312500  8.593750\n",
            "         4 28.906250 21.484375 21.484375 10.156250\n",
            "         5 29.492188 22.265625 22.265625 10.742188\n",
            "         6 29.882812 22.558594 22.558594 11.132812\n",
            "         7 30.029297 22.753906 22.753906 11.279297\n",
            "         8 30.126953 22.827148 22.827148 11.376953\n",
            "         9 30.163574 22.875977 22.875977 11.413574\n",
            "        10 30.187988 22.894287 22.894287 11.437988\n",
            "        11 30.197144 22.906494 22.906494 11.447144\n",
            "        12 30.203247 22.911072 22.911072 11.453247\n",
            "        13 30.205536 22.914124 22.914124 11.455536\n",
            "        14 30.207062 22.915268 22.915268 11.457062\n",
            "        15 30.207634 22.916031 22.916031 11.457634\n",
            "        16 30.208015 22.916317 22.916317 11.458015\n",
            "        17 30.208158 22.916508 22.916508 11.458158\n",
            "        18 30.208254 22.916579 22.916579 11.458254\n",
            "        19 30.208290 22.916627 22.916627 11.458290\n",
            "        20 30.208313 22.916645 22.916645 11.458313\n"
          ]
        }
      ],
      "source": [
        "import numpy as np\n",
        "import pandas as pd\n",
        "\n",
        "#Ejercicio 3 del problemario\n",
        "A = np.array([[4, -1, -1, 0],\n",
        "              [-1, 4, 0, -1],\n",
        "              [-1, 0, 4, -1],\n",
        "              [0, -1, -1, 4]], dtype=float)\n",
        "\n",
        "b = np.array([75, 50, 50, 0], dtype=float)\n",
        "\n",
        "\n",
        "#El metodo inicia:\n",
        "#1. Usando el vector 0 para la primera iteracion\n",
        "u = np.zeros(len(b))\n",
        "\n",
        "# Definimos las iteraciones a realizar y la tolerancia\n",
        "n = 20\n",
        "tol = 1e-6\n",
        "\n",
        "#La tarea nos pide guardarla en una tabla.\n",
        "tabla = []\n",
        "\n",
        "\n",
        "#2. mientras k sea menor o igual a n (numero de iteraciones) hacemos:\n",
        "for k in range(n):\n",
        "    u_n = np.zeros_like(u)\n",
        "\n",
        "  #3. Sea Jacobi:\n",
        "    for i in range(len(b)):\n",
        "        suma = 0\n",
        "        for j in range(len(b)):\n",
        "            if j != i:\n",
        "                suma += A[i, j] * u[j]\n",
        "        u_n[i] = (b[i] - suma) / A[i, i]\n",
        "\n",
        "    #Aparecerá en la tabla:\n",
        "    tabla.append([k+1] + list(u_n))\n",
        "\n",
        "    #4. La tolerancia es:\n",
        "    if np.linalg.norm(u_n - u, ord=np.inf) < tol:\n",
        "        break\n",
        "\n",
        "    #5. i=1,...,n.\n",
        "    u = u_n\n",
        "#Los resultados son:\n",
        "df = pd.DataFrame(tabla, columns=[\"Iteración\", \"u11\", \"u21\", \"u12\", \"u22\"])\n",
        "print(df.to_string(index=False))"
      ]
    }
  ],
  "metadata": {
    "colab": {
      "provenance": []
    },
    "kernelspec": {
      "display_name": "Python 3",
      "name": "python3"
    },
    "language_info": {
      "name": "python"
    }
  },
  "nbformat": 4,
  "nbformat_minor": 0
}
