{
  "nbformat": 4,
  "nbformat_minor": 0,
  "metadata": {
    "colab": {
      "provenance": [],
      "authorship_tag": "ABX9TyN/eOkzUdCkuxWeX0Ikyam0",
      "include_colab_link": true
    },
    "kernelspec": {
      "name": "python3",
      "display_name": "Python 3"
    },
    "language_info": {
      "name": "python"
    }
  },
  "cells": [
    {
      "cell_type": "markdown",
      "metadata": {
        "id": "view-in-github",
        "colab_type": "text"
      },
      "source": [
        "<a href=\"https://colab.research.google.com/github/ivanto-vrgs/Jacobi-LIGV/blob/main/JACOBI_LIGV.ipynb\" target=\"_parent\"><img src=\"https://colab.research.google.com/assets/colab-badge.svg\" alt=\"Open In Colab\"/></a>"
      ]
    },
    {
      "cell_type": "code",
      "execution_count": 1,
      "metadata": {
        "colab": {
          "base_uri": "https://localhost:8080/"
        },
        "id": "RR9XDPY9gBbN",
        "outputId": "879387c7-1328-4ba9-bcff-4c6255e10697"
      },
      "outputs": [
        {
          "output_type": "stream",
          "name": "stdout",
          "text": [
            " Iteración      u11      u21      u12      u22\n",
            "         1 0.000000 0.166667 0.222222 0.388889\n",
            "         2 0.097222 0.263889 0.319444 0.486111\n",
            "         3 0.145833 0.312500 0.368056 0.534722\n",
            "         4 0.170139 0.336806 0.392361 0.559028\n",
            "         5 0.182292 0.348958 0.404514 0.571181\n",
            "         6 0.188368 0.355035 0.410590 0.577257\n",
            "         7 0.191406 0.358073 0.413628 0.580295\n",
            "         8 0.192925 0.359592 0.415148 0.581814\n",
            "         9 0.193685 0.360352 0.415907 0.582574\n",
            "        10 0.194065 0.360731 0.416287 0.582954\n",
            "        11 0.194255 0.360921 0.416477 0.583143\n",
            "        12 0.194350 0.361016 0.416572 0.583238\n",
            "        13 0.194397 0.361064 0.416619 0.583286\n",
            "        14 0.194421 0.361087 0.416643 0.583310\n",
            "        15 0.194433 0.361099 0.416655 0.583321\n",
            "        16 0.194439 0.361105 0.416661 0.583327\n",
            "        17 0.194441 0.361108 0.416664 0.583330\n",
            "        18 0.194443 0.361110 0.416665 0.583332\n",
            "        19 0.194444 0.361110 0.416666 0.583333\n"
          ]
        }
      ],
      "source": [
        "import numpy as np\n",
        "import pandas as pd\n",
        "\n",
        "#Ejercicio del problemario\n",
        "A = np.array([[4, -1, -1, 0],\n",
        "              [-1, 4, 0, -1],\n",
        "              [-1, 0, 4, -1],\n",
        "              [0, -1, -1, 4]], dtype=float)\n",
        "\n",
        "b = np.array([0, 2/3, 8/9, 14/9], dtype=float)\n",
        "\n",
        "\n",
        "#El metodo inicia:\n",
        "#1. Usando el vector 0 para la primera iteracion\n",
        "u = np.zeros(len(b))\n",
        "\n",
        "# Definimos las iteraciones a realizar y la tolerancia\n",
        "n = 20\n",
        "tol = 1e-6\n",
        "\n",
        "#La tarea nos pide guardarla en una tabla.\n",
        "tabla = []\n",
        "\n",
        "\n",
        "#2. mientras k sea menor o igual a n (numero de iteraciones) hacemos:\n",
        "for k in range(n):\n",
        "    u_n = np.zeros_like(u)\n",
        "\n",
        "  #3. Sea Jacobi:\n",
        "    for i in range(len(b)):\n",
        "        suma = 0\n",
        "        for j in range(len(b)):\n",
        "            if j != i:\n",
        "                suma += A[i, j] * u[j]\n",
        "        u_n[i] = (b[i] - suma) / A[i, i]\n",
        "\n",
        "    #Aparecerá en la tabla:\n",
        "    tabla.append([k+1] + list(u_n))\n",
        "\n",
        "    #4. La tolerancia es:\n",
        "    if np.linalg.norm(u_n - u, ord=np.inf) < tol:\n",
        "        break\n",
        "\n",
        "    #5. i=1,...,n.\n",
        "    u = u_n\n",
        "#Los resultados son:\n",
        "df = pd.DataFrame(tabla, columns=[\"Iteración\", \"u11\", \"u21\", \"u12\", \"u22\"])\n",
        "print(df.to_string(index=False))"
      ]
    }
  ]
}